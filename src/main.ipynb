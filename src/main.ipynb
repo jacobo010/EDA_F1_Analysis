{
 "cells": [
  {
   "cell_type": "code",
   "execution_count": null,
   "metadata": {},
   "outputs": [],
   "source": [
    "link_datos = \"https://www.kaggle.com/datasets/rohanrao/formula-1-world-championship-1950-2020/data?select=constructors.csv\""
   ]
  }
 ],
 "metadata": {
  "language_info": {
   "name": "python"
  }
 },
 "nbformat": 4,
 "nbformat_minor": 2
}
